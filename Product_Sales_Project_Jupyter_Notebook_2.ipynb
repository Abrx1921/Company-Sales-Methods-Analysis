{
 "cells": [
  {
   "cell_type": "markdown",
   "metadata": {},
   "source": [
    "# Product Sales Project"
   ]
  },
  {
   "cell_type": "markdown",
   "metadata": {},
   "source": [
    "By: Abraham Saenz Sigala"
   ]
  },
  {
   "cell_type": "code",
   "execution_count": 1,
   "metadata": {},
   "outputs": [],
   "source": [
    "# Import data and libraries\n",
    "\n",
    "import os \n",
    "os.chdir(r'C:\\Users\\abrah\\OneDrive\\Documents\\Data Camp\\Data Analyst Certificate\\Practical Exam')\n",
    "\n",
    "import seaborn as sns\n",
    "import pandas as pd\n",
    "import numpy as np\n",
    "import matplotlib.pyplot as plt\n",
    "\n",
    "df = pd.read_csv('product_sales.csv')"
   ]
  },
  {
   "cell_type": "markdown",
   "metadata": {},
   "source": [
    "Data Exploration"
   ]
  },
  {
   "cell_type": "code",
   "execution_count": 2,
   "metadata": {},
   "outputs": [
    {
     "name": "stdout",
     "output_type": "stream",
     "text": [
      "<class 'pandas.core.frame.DataFrame'>\n",
      "RangeIndex: 15000 entries, 0 to 14999\n",
      "Data columns (total 8 columns):\n",
      " #   Column             Non-Null Count  Dtype  \n",
      "---  ------             --------------  -----  \n",
      " 0   week               15000 non-null  int64  \n",
      " 1   sales_method       15000 non-null  object \n",
      " 2   customer_id        15000 non-null  object \n",
      " 3   nb_sold            15000 non-null  int64  \n",
      " 4   revenue            13926 non-null  float64\n",
      " 5   years_as_customer  15000 non-null  int64  \n",
      " 6   nb_site_visits     15000 non-null  int64  \n",
      " 7   state              15000 non-null  object \n",
      "dtypes: float64(1), int64(4), object(3)\n",
      "memory usage: 937.6+ KB\n"
     ]
    }
   ],
   "source": [
    "df.info()"
   ]
  },
  {
   "cell_type": "code",
   "execution_count": 3,
   "metadata": {},
   "outputs": [
    {
     "data": {
      "text/plain": [
       "Index(['week', 'sales_method', 'customer_id', 'nb_sold', 'revenue',\n",
       "       'years_as_customer', 'nb_site_visits', 'state'],\n",
       "      dtype='object')"
      ]
     },
     "execution_count": 3,
     "metadata": {},
     "output_type": "execute_result"
    }
   ],
   "source": [
    "df.columns"
   ]
  },
  {
   "cell_type": "code",
   "execution_count": 4,
   "metadata": {},
   "outputs": [
    {
     "data": {
      "text/plain": [
       "(15000, 8)"
      ]
     },
     "execution_count": 4,
     "metadata": {},
     "output_type": "execute_result"
    }
   ],
   "source": [
    "df.shape"
   ]
  },
  {
   "cell_type": "code",
   "execution_count": 5,
   "metadata": {},
   "outputs": [
    {
     "data": {
      "text/html": [
       "<div>\n",
       "<style scoped>\n",
       "    .dataframe tbody tr th:only-of-type {\n",
       "        vertical-align: middle;\n",
       "    }\n",
       "\n",
       "    .dataframe tbody tr th {\n",
       "        vertical-align: top;\n",
       "    }\n",
       "\n",
       "    .dataframe thead th {\n",
       "        text-align: right;\n",
       "    }\n",
       "</style>\n",
       "<table border=\"1\" class=\"dataframe\">\n",
       "  <thead>\n",
       "    <tr style=\"text-align: right;\">\n",
       "      <th></th>\n",
       "      <th>week</th>\n",
       "      <th>sales_method</th>\n",
       "      <th>customer_id</th>\n",
       "      <th>nb_sold</th>\n",
       "      <th>revenue</th>\n",
       "      <th>years_as_customer</th>\n",
       "      <th>nb_site_visits</th>\n",
       "      <th>state</th>\n",
       "    </tr>\n",
       "  </thead>\n",
       "  <tbody>\n",
       "    <tr>\n",
       "      <th>0</th>\n",
       "      <td>2</td>\n",
       "      <td>Email</td>\n",
       "      <td>2e72d641-95ac-497b-bbf8-4861764a7097</td>\n",
       "      <td>10</td>\n",
       "      <td>NaN</td>\n",
       "      <td>0</td>\n",
       "      <td>24</td>\n",
       "      <td>Arizona</td>\n",
       "    </tr>\n",
       "    <tr>\n",
       "      <th>1</th>\n",
       "      <td>6</td>\n",
       "      <td>Email + Call</td>\n",
       "      <td>3998a98d-70f5-44f7-942e-789bb8ad2fe7</td>\n",
       "      <td>15</td>\n",
       "      <td>225.47</td>\n",
       "      <td>1</td>\n",
       "      <td>28</td>\n",
       "      <td>Kansas</td>\n",
       "    </tr>\n",
       "    <tr>\n",
       "      <th>2</th>\n",
       "      <td>5</td>\n",
       "      <td>Call</td>\n",
       "      <td>d1de9884-8059-4065-b10f-86eef57e4a44</td>\n",
       "      <td>11</td>\n",
       "      <td>52.55</td>\n",
       "      <td>6</td>\n",
       "      <td>26</td>\n",
       "      <td>Wisconsin</td>\n",
       "    </tr>\n",
       "    <tr>\n",
       "      <th>3</th>\n",
       "      <td>4</td>\n",
       "      <td>Email</td>\n",
       "      <td>78aa75a4-ffeb-4817-b1d0-2f030783c5d7</td>\n",
       "      <td>11</td>\n",
       "      <td>NaN</td>\n",
       "      <td>3</td>\n",
       "      <td>25</td>\n",
       "      <td>Indiana</td>\n",
       "    </tr>\n",
       "    <tr>\n",
       "      <th>4</th>\n",
       "      <td>3</td>\n",
       "      <td>Email</td>\n",
       "      <td>10e6d446-10a5-42e5-8210-1b5438f70922</td>\n",
       "      <td>9</td>\n",
       "      <td>90.49</td>\n",
       "      <td>0</td>\n",
       "      <td>28</td>\n",
       "      <td>Illinois</td>\n",
       "    </tr>\n",
       "    <tr>\n",
       "      <th>...</th>\n",
       "      <td>...</td>\n",
       "      <td>...</td>\n",
       "      <td>...</td>\n",
       "      <td>...</td>\n",
       "      <td>...</td>\n",
       "      <td>...</td>\n",
       "      <td>...</td>\n",
       "      <td>...</td>\n",
       "    </tr>\n",
       "    <tr>\n",
       "      <th>14995</th>\n",
       "      <td>4</td>\n",
       "      <td>Call</td>\n",
       "      <td>17267b41-d048-4346-8b90-7f787690a836</td>\n",
       "      <td>10</td>\n",
       "      <td>50.82</td>\n",
       "      <td>0</td>\n",
       "      <td>22</td>\n",
       "      <td>Pennsylvania</td>\n",
       "    </tr>\n",
       "    <tr>\n",
       "      <th>14996</th>\n",
       "      <td>5</td>\n",
       "      <td>Call</td>\n",
       "      <td>09e10d6f-4508-4b27-895e-4db11ce8302b</td>\n",
       "      <td>10</td>\n",
       "      <td>52.33</td>\n",
       "      <td>1</td>\n",
       "      <td>27</td>\n",
       "      <td>Kansas</td>\n",
       "    </tr>\n",
       "    <tr>\n",
       "      <th>14997</th>\n",
       "      <td>1</td>\n",
       "      <td>Call</td>\n",
       "      <td>839653cb-68c9-48cb-a097-0a5a3b2b298b</td>\n",
       "      <td>7</td>\n",
       "      <td>34.87</td>\n",
       "      <td>4</td>\n",
       "      <td>22</td>\n",
       "      <td>West Virginia</td>\n",
       "    </tr>\n",
       "    <tr>\n",
       "      <th>14998</th>\n",
       "      <td>6</td>\n",
       "      <td>Call</td>\n",
       "      <td>e4dad70a-b23b-407c-8bd3-e32ea00fae17</td>\n",
       "      <td>13</td>\n",
       "      <td>64.90</td>\n",
       "      <td>2</td>\n",
       "      <td>27</td>\n",
       "      <td>New Jersey</td>\n",
       "    </tr>\n",
       "    <tr>\n",
       "      <th>14999</th>\n",
       "      <td>5</td>\n",
       "      <td>Email + Call</td>\n",
       "      <td>4e077235-7c17-4054-9997-7a890336a214</td>\n",
       "      <td>13</td>\n",
       "      <td>NaN</td>\n",
       "      <td>4</td>\n",
       "      <td>25</td>\n",
       "      <td>Illinois</td>\n",
       "    </tr>\n",
       "  </tbody>\n",
       "</table>\n",
       "<p>15000 rows × 8 columns</p>\n",
       "</div>"
      ],
      "text/plain": [
       "       week  sales_method                           customer_id  nb_sold  \\\n",
       "0         2         Email  2e72d641-95ac-497b-bbf8-4861764a7097       10   \n",
       "1         6  Email + Call  3998a98d-70f5-44f7-942e-789bb8ad2fe7       15   \n",
       "2         5          Call  d1de9884-8059-4065-b10f-86eef57e4a44       11   \n",
       "3         4         Email  78aa75a4-ffeb-4817-b1d0-2f030783c5d7       11   \n",
       "4         3         Email  10e6d446-10a5-42e5-8210-1b5438f70922        9   \n",
       "...     ...           ...                                   ...      ...   \n",
       "14995     4          Call  17267b41-d048-4346-8b90-7f787690a836       10   \n",
       "14996     5          Call  09e10d6f-4508-4b27-895e-4db11ce8302b       10   \n",
       "14997     1          Call  839653cb-68c9-48cb-a097-0a5a3b2b298b        7   \n",
       "14998     6          Call  e4dad70a-b23b-407c-8bd3-e32ea00fae17       13   \n",
       "14999     5  Email + Call  4e077235-7c17-4054-9997-7a890336a214       13   \n",
       "\n",
       "       revenue  years_as_customer  nb_site_visits          state  \n",
       "0          NaN                  0              24        Arizona  \n",
       "1       225.47                  1              28         Kansas  \n",
       "2        52.55                  6              26      Wisconsin  \n",
       "3          NaN                  3              25        Indiana  \n",
       "4        90.49                  0              28       Illinois  \n",
       "...        ...                ...             ...            ...  \n",
       "14995    50.82                  0              22   Pennsylvania  \n",
       "14996    52.33                  1              27         Kansas  \n",
       "14997    34.87                  4              22  West Virginia  \n",
       "14998    64.90                  2              27     New Jersey  \n",
       "14999      NaN                  4              25       Illinois  \n",
       "\n",
       "[15000 rows x 8 columns]"
      ]
     },
     "execution_count": 5,
     "metadata": {},
     "output_type": "execute_result"
    }
   ],
   "source": [
    "df"
   ]
  },
  {
   "cell_type": "code",
   "execution_count": 6,
   "metadata": {},
   "outputs": [
    {
     "data": {
      "text/plain": [
       "week   sales_method  customer_id  nb_sold  revenue  years_as_customer  nb_site_visits  state\n",
       "False  False         False        False    False    False              False           False    13926\n",
       "                                           True     False              False           False     1074\n",
       "Name: count, dtype: int64"
      ]
     },
     "execution_count": 6,
     "metadata": {},
     "output_type": "execute_result"
    }
   ],
   "source": [
    "df.isna().value_counts()"
   ]
  },
  {
   "cell_type": "code",
   "execution_count": 7,
   "metadata": {},
   "outputs": [
    {
     "data": {
      "text/plain": [
       "sales_method\n",
       "Email           7456\n",
       "Call            4962\n",
       "Email + Call    2549\n",
       "em + call         23\n",
       "email             10\n",
       "Name: count, dtype: int64"
      ]
     },
     "execution_count": 7,
     "metadata": {},
     "output_type": "execute_result"
    }
   ],
   "source": [
    "df['sales_method'].value_counts() # 5 sales method instead of 3. Inconsitency."
   ]
  },
  {
   "cell_type": "code",
   "execution_count": 8,
   "metadata": {},
   "outputs": [
    {
     "data": {
      "text/plain": [
       "revenue\n",
       "False    13926\n",
       "True      1074\n",
       "Name: count, dtype: int64"
      ]
     },
     "execution_count": 8,
     "metadata": {},
     "output_type": "execute_result"
    }
   ],
   "source": [
    "df['revenue'].isna().value_counts() # 1074 missing values in revenue column. \n",
    "# Fill N/A specific grouped average, or leave missing."
   ]
  },
  {
   "cell_type": "markdown",
   "metadata": {},
   "source": [
    "Data Cleaning"
   ]
  },
  {
   "cell_type": "code",
   "execution_count": 39,
   "metadata": {},
   "outputs": [
    {
     "data": {
      "text/plain": [
       "sales_method\n",
       "Email           7465\n",
       "Call            4961\n",
       "Email + Call    2572\n",
       "Name: count, dtype: int64"
      ]
     },
     "execution_count": 39,
     "metadata": {},
     "output_type": "execute_result"
    }
   ],
   "source": [
    "# Make sales_method column consistent\n",
    "df.sales_method.value_counts() # em + call and email should be replaced/renamed appropriately.\n"
   ]
  },
  {
   "cell_type": "code",
   "execution_count": 10,
   "metadata": {},
   "outputs": [],
   "source": [
    "# Standardizing sales_method values for consistency in analysis\n",
    "#df['sales_method'] = df['sales_method'].str.replace('em + call', 'Email + Call')\n",
    "#df['sales_method'] = df['sales_method'].str.replace('email', 'Email')\n",
    "\n",
    "# Alternatively we can use a dictionary and rename them. \n",
    "sales_method_mapping = { 'email':'Email', 'em + call': 'Email + Call'}\n",
    "df['sales_method'] = df['sales_method'].replace(sales_method_mapping)\n"
   ]
  },
  {
   "cell_type": "code",
   "execution_count": 11,
   "metadata": {},
   "outputs": [],
   "source": [
    "# Drop year_as_customer values that exceed 39 years. 2023 - 1984 = 39 years\n",
    "df = df[df['years_as_customer'] <= 39]"
   ]
  },
  {
   "cell_type": "code",
   "execution_count": 12,
   "metadata": {},
   "outputs": [
    {
     "name": "stderr",
     "output_type": "stream",
     "text": [
      "C:\\Users\\abrah\\AppData\\Local\\Temp\\ipykernel_15536\\1476124580.py:5: SettingWithCopyWarning: \n",
      "A value is trying to be set on a copy of a slice from a DataFrame.\n",
      "Try using .loc[row_indexer,col_indexer] = value instead\n",
      "\n",
      "See the caveats in the documentation: https://pandas.pydata.org/pandas-docs/stable/user_guide/indexing.html#returning-a-view-versus-a-copy\n",
      "  df['revenue'] = df['revenue'].fillna(group_means)\n",
      "C:\\Users\\abrah\\AppData\\Local\\Temp\\ipykernel_15536\\1476124580.py:7: SettingWithCopyWarning: \n",
      "A value is trying to be set on a copy of a slice from a DataFrame.\n",
      "Try using .loc[row_indexer,col_indexer] = value instead\n",
      "\n",
      "See the caveats in the documentation: https://pandas.pydata.org/pandas-docs/stable/user_guide/indexing.html#returning-a-view-versus-a-copy\n",
      "  df['revenue'] = df['revenue'].round(2)\n"
     ]
    }
   ],
   "source": [
    "# Fill revenue NaN values with the grouped by average of the specific nb_sold and sales_method\n",
    "group_means = df.groupby(['nb_sold', 'sales_method'])['revenue'].transform('mean')\n",
    "\n",
    "# Fill NaN values with the group specific mean\n",
    "df['revenue'] = df['revenue'].fillna(group_means)\n",
    "\n",
    "df['revenue'] = df['revenue'].round(2)"
   ]
  },
  {
   "cell_type": "markdown",
   "metadata": {},
   "source": [
    "Data Analysis"
   ]
  },
  {
   "cell_type": "code",
   "execution_count": 13,
   "metadata": {},
   "outputs": [
    {
     "name": "stdout",
     "output_type": "stream",
     "text": [
      "   sales_method  customers\n",
      "1         Email       7465\n",
      "0          Call       4961\n",
      "2  Email + Call       2572\n"
     ]
    }
   ],
   "source": [
    "# 1. How many customers were there for each approach?\n",
    "method_counts = df.groupby('sales_method').size().reset_index(name = 'customers').sort_values(by = 'customers', ascending = False)\n",
    "print(method_counts)"
   ]
  },
  {
   "cell_type": "code",
   "execution_count": 14,
   "metadata": {},
   "outputs": [
    {
     "data": {
      "image/png": "[encoded data removed]",
      "text/plain": [
       "<Figure size 640x480 with 1 Axes>"
      ]
     },
     "metadata": {},
     "output_type": "display_data"
    }
   ],
   "source": [
    "# Visualization: Bar Plot\n",
    "custom_palette = sns.color_palette('gray', n_colors=3)\n",
    "\n",
    "sns.barplot(data = method_counts, x = 'sales_method', y = 'customers', palette = custom_palette, hue = 'sales_method' )\n",
    "\n",
    "plt.ylabel('Customers')\n",
    "plt.xlabel('Sales Method')\n",
    "plt.title('Customer Count per Sales Method')\n",
    "\n",
    "plt.show()"
   ]
  },
  {
   "cell_type": "markdown",
   "metadata": {},
   "source": [
    "We have three primary sales methods which are Email, Call, and a combined Email + Call approach. Currently, we engage the largest number of customers through Email, followed by Calls, while the combined Email + Call strategy receives comparatively less focus. Its also important to note the Call only method takes around 30 min on average. The Call in Email + Call combination takes around 10 minutes on average. We also are only working with 6 weeks worth of data as that was provided."
   ]
  },
  {
   "cell_type": "code",
   "execution_count": 15,
   "metadata": {},
   "outputs": [
    {
     "name": "stdout",
     "output_type": "stream",
     "text": [
      "Average Revenue Overall: $95.72\n"
     ]
    }
   ],
   "source": [
    "# 2. What does the spread of the revenue look like overall? \n",
    "\n",
    "# Avg Revenue \n",
    "avg_revenue = df['revenue'].mean()\n",
    "print(f'Average Revenue Overall: ${avg_revenue.round(2)}')"
   ]
  },
  {
   "cell_type": "code",
   "execution_count": 16,
   "metadata": {},
   "outputs": [
    {
     "name": "stdout",
     "output_type": "stream",
     "text": [
      "Total Outliers: 617\n"
     ]
    }
   ],
   "source": [
    "# Total Outliers for Overall Revenue\n",
    "Q1 = df['revenue'].quantile(.25)\n",
    "Q3 = df['revenue'].quantile(.75)\n",
    "IQR = Q3 - Q1\n",
    "\n",
    "lower = Q1 - 1.5 * IQR\n",
    "upper = Q3 + 1.5 * IQR\n",
    "\n",
    "outliers = df[(df['revenue'] > upper) | (df['revenue'] < lower)]\n",
    "\n",
    "print(f'Total Outliers: {len(outliers)}')"
   ]
  },
  {
   "cell_type": "code",
   "execution_count": 17,
   "metadata": {},
   "outputs": [
    {
     "name": "stdout",
     "output_type": "stream",
     "text": [
      "IQR Range:\n",
      "Q3: $108.63\n",
      "Q1: $52.76\n"
     ]
    }
   ],
   "source": [
    "# IQR Range \n",
    "print('IQR Range:')\n",
    "print(f'Q3: ${Q3}')\n",
    "print(f'Q1: ${Q1}')"
   ]
  },
  {
   "cell_type": "code",
   "execution_count": 18,
   "metadata": {},
   "outputs": [
    {
     "name": "stdout",
     "output_type": "stream",
     "text": [
      "Max Value (Excluding Outliers): $192.39\n",
      "Min Value (Excluding Outliers): $32.54\n"
     ]
    }
   ],
   "source": [
    "# Filter out the outliers\n",
    "filtered_df = df[(df['revenue'] <= upper) & (df['revenue'] >= lower)]\n",
    "\n",
    "# Find the max and min values excluding outliers\n",
    "max_value_excluding_outliers = filtered_df['revenue'].max()\n",
    "min_value_excluding_outliers = filtered_df['revenue'].min()\n",
    "\n",
    "print(f'Max Value (Excluding Outliers): ${max_value_excluding_outliers}')\n",
    "print(f'Min Value (Excluding Outliers): ${min_value_excluding_outliers}')"
   ]
  },
  {
   "cell_type": "code",
   "execution_count": 19,
   "metadata": {},
   "outputs": [
    {
     "data": {
      "image/png": "[encoded data removed]",
      "text/plain": [
       "<Figure size 400x800 with 1 Axes>"
      ]
     },
     "metadata": {},
     "output_type": "display_data"
    }
   ],
   "source": [
    "# Visualization 2.2: Box Plot\n",
    "\n",
    "plt.figure(figsize = (4,8))\n",
    "sns.boxplot(data = df, y = 'revenue', showmeans = True, meanprops={\"markersize\":10}, color = 'gray')\n",
    "\n",
    "plt.xticks([])\n",
    "plt.ylabel('Revenue')\n",
    "plt.title('Overall Revenue Spread')\n",
    "\n",
    "plt.ylim(bottom=0)\n",
    "\n",
    "plt.show()"
   ]
  },
  {
   "cell_type": "markdown",
   "metadata": {},
   "source": [
    "Our overall revenue typically ranges from $52 to $108, with $32 as the lowest and $192 as the highest. On average, we make $95. However, 617 transactions are unusually high compared to the rest"
   ]
  },
  {
   "cell_type": "code",
   "execution_count": 20,
   "metadata": {},
   "outputs": [
    {
     "data": {
      "image/png": "[encoded data removed]",
      "text/plain": [
       "<Figure size 640x480 with 1 Axes>"
      ]
     },
     "metadata": {},
     "output_type": "display_data"
    }
   ],
   "source": [
    "sns.histplot(data = df, x = 'revenue', bins = 20, color = 'gray')\n",
    "\n",
    "plt.xlabel('Revenue')\n",
    "plt.ylabel('Sales')\n",
    "plt.title('Overall Revenue Distribution')\n",
    "\n",
    "plt.show()"
   ]
  },
  {
   "cell_type": "markdown",
   "metadata": {},
   "source": [
    "This histogram provides a view of our overall revenue distribution. The highest number of products sold falls in the $90 range. We also see that a significant portion of our sales falls within the lower revenue range. We can also see a lack of sales in the higher revenue range indicating a potential area of growth."
   ]
  },
  {
   "cell_type": "code",
   "execution_count": 21,
   "metadata": {},
   "outputs": [],
   "source": [
    "# 2.3 Revenue spread by sales method\n",
    "# Sales method and revenue df\n",
    "rev_spread_method = df[['sales_method', 'revenue']].sort_values(by = 'revenue', ascending = False)"
   ]
  },
  {
   "cell_type": "code",
   "execution_count": 22,
   "metadata": {},
   "outputs": [
    {
     "data": {
      "image/png": "[encoded data removed]",
      "text/plain": [
       "<Figure size 800x1000 with 1 Axes>"
      ]
     },
     "metadata": {},
     "output_type": "display_data"
    }
   ],
   "source": [
    "# 2.3 Visualization: Box Plot\n",
    "\n",
    "plt.figure(figsize = (8,10))\n",
    "sns.boxplot(data = rev_spread_method, y = 'revenue', showmeans = True, meanprops={\"markersize\":10}, hue = 'sales_method', palette = 'gray')\n",
    "\n",
    "plt.xticks([])\n",
    "plt.ylabel('Revenue')\n",
    "plt.title('Revenue Spread by Sales Method')\n",
    "plt.legend(title = 'Sales Method')\n",
    "\n",
    "plt.ylim(bottom=0)\n",
    "\n",
    "plt.show()"
   ]
  },
  {
   "cell_type": "markdown",
   "metadata": {},
   "source": [
    "Here we see how our revenue spread varies depending on the sales method. Email + Call brings in the most money, between $160 and $190 (Avg: $184). Emails alone make less, around $90 to $110 (Avg: $97). Calls bring in the least, at around just $40 to $50 (Avg: $48). "
   ]
  },
  {
   "cell_type": "code",
   "execution_count": 23,
   "metadata": {},
   "outputs": [
    {
     "data": {
      "text/html": [
       "<div>\n",
       "<style scoped>\n",
       "    .dataframe tbody tr th:only-of-type {\n",
       "        vertical-align: middle;\n",
       "    }\n",
       "\n",
       "    .dataframe tbody tr th {\n",
       "        vertical-align: top;\n",
       "    }\n",
       "\n",
       "    .dataframe thead th {\n",
       "        text-align: right;\n",
       "    }\n",
       "</style>\n",
       "<table border=\"1\" class=\"dataframe\">\n",
       "  <thead>\n",
       "    <tr style=\"text-align: right;\">\n",
       "      <th></th>\n",
       "      <th>revenue</th>\n",
       "    </tr>\n",
       "    <tr>\n",
       "      <th>sales_method</th>\n",
       "      <th></th>\n",
       "    </tr>\n",
       "  </thead>\n",
       "  <tbody>\n",
       "    <tr>\n",
       "      <th>Call</th>\n",
       "      <td>47.64</td>\n",
       "    </tr>\n",
       "    <tr>\n",
       "      <th>Email</th>\n",
       "      <td>97.19</td>\n",
       "    </tr>\n",
       "    <tr>\n",
       "      <th>Email + Call</th>\n",
       "      <td>184.23</td>\n",
       "    </tr>\n",
       "  </tbody>\n",
       "</table>\n",
       "</div>"
      ],
      "text/plain": [
       "              revenue\n",
       "sales_method         \n",
       "Call            47.64\n",
       "Email           97.19\n",
       "Email + Call   184.23"
      ]
     },
     "execution_count": 23,
     "metadata": {},
     "output_type": "execute_result"
    }
   ],
   "source": [
    "# Average revenue for each sales method\n",
    "avg_revenue_per_method = rev_spread_method.groupby('sales_method').mean().round(2)\n",
    "avg_revenue_per_method"
   ]
  },
  {
   "cell_type": "code",
   "execution_count": 24,
   "metadata": {},
   "outputs": [],
   "source": [
    "# 3. What sales method brings in the highest revenue\n",
    "most_rev = rev_spread_method.groupby('sales_method')['revenue'].sum().reset_index()"
   ]
  },
  {
   "cell_type": "code",
   "execution_count": 25,
   "metadata": {},
   "outputs": [
    {
     "data": {
      "text/html": [
       "<div>\n",
       "<style scoped>\n",
       "    .dataframe tbody tr th:only-of-type {\n",
       "        vertical-align: middle;\n",
       "    }\n",
       "\n",
       "    .dataframe tbody tr th {\n",
       "        vertical-align: top;\n",
       "    }\n",
       "\n",
       "    .dataframe thead th {\n",
       "        text-align: right;\n",
       "    }\n",
       "</style>\n",
       "<table border=\"1\" class=\"dataframe\">\n",
       "  <thead>\n",
       "    <tr style=\"text-align: right;\">\n",
       "      <th></th>\n",
       "      <th>sales_method</th>\n",
       "      <th>revenue</th>\n",
       "    </tr>\n",
       "  </thead>\n",
       "  <tbody>\n",
       "    <tr>\n",
       "      <th>1</th>\n",
       "      <td>Email</td>\n",
       "      <td>725486.44</td>\n",
       "    </tr>\n",
       "    <tr>\n",
       "      <th>2</th>\n",
       "      <td>Email + Call</td>\n",
       "      <td>473827.98</td>\n",
       "    </tr>\n",
       "    <tr>\n",
       "      <th>0</th>\n",
       "      <td>Call</td>\n",
       "      <td>236346.89</td>\n",
       "    </tr>\n",
       "  </tbody>\n",
       "</table>\n",
       "</div>"
      ],
      "text/plain": [
       "   sales_method    revenue\n",
       "1         Email  725486.44\n",
       "2  Email + Call  473827.98\n",
       "0          Call  236346.89"
      ]
     },
     "execution_count": 25,
     "metadata": {},
     "output_type": "execute_result"
    }
   ],
   "source": [
    "most_rev = most_rev.sort_values(by = 'revenue', ascending = False)\n",
    "most_rev"
   ]
  },
  {
   "cell_type": "code",
   "execution_count": 26,
   "metadata": {},
   "outputs": [
    {
     "name": "stderr",
     "output_type": "stream",
     "text": [
      "C:\\Users\\abrah\\AppData\\Local\\Temp\\ipykernel_15536\\616230740.py:3: FutureWarning: \n",
      "\n",
      "Passing `palette` without assigning `hue` is deprecated and will be removed in v0.14.0. Assign the `x` variable to `hue` and set `legend=False` for the same effect.\n",
      "\n",
      "  sns.barplot(data = most_rev, y = 'revenue', x = 'sales_method', palette = 'gray')\n"
     ]
    },
    {
     "data": {
      "image/png": "[encoded data removed]",
      "text/plain": [
       "<Figure size 640x480 with 1 Axes>"
      ]
     },
     "metadata": {},
     "output_type": "display_data"
    }
   ],
   "source": [
    "# Visualization: Bar PLot\n",
    "\n",
    "sns.barplot(data = most_rev, y = 'revenue', x = 'sales_method', palette = 'gray')\n",
    "\n",
    "plt.xlabel('Sales Method')\n",
    "plt.ylabel('Revenue')\n",
    "plt.title('Revenue by Sales Method')\n",
    "\n",
    "plt.show()"
   ]
  },
  {
   "cell_type": "markdown",
   "metadata": {},
   "source": [
    "Although not necessarily a question that was asked, I think its important to see the amount of revenue each method brought in. The Email sales method brings in the most revenue, over $700,000. Email + Call comes second, generating about $480,000. Finally, Call brings in the least, around $230,000, which is roughly a third of what Email only makes and less than half of what the Email + Call combination brings in despite it being the second most used method."
   ]
  },
  {
   "cell_type": "code",
   "execution_count": null,
   "metadata": {},
   "outputs": [],
   "source": [
    "# 4. Was there any difference in revenue over time for each of the methods? "
   ]
  },
  {
   "cell_type": "code",
   "execution_count": 28,
   "metadata": {},
   "outputs": [
    {
     "data": {
      "text/html": [
       "<div>\n",
       "<style scoped>\n",
       "    .dataframe tbody tr th:only-of-type {\n",
       "        vertical-align: middle;\n",
       "    }\n",
       "\n",
       "    .dataframe tbody tr th {\n",
       "        vertical-align: top;\n",
       "    }\n",
       "\n",
       "    .dataframe thead th {\n",
       "        text-align: right;\n",
       "    }\n",
       "</style>\n",
       "<table border=\"1\" class=\"dataframe\">\n",
       "  <thead>\n",
       "    <tr style=\"text-align: right;\">\n",
       "      <th></th>\n",
       "      <th>sales_method</th>\n",
       "      <th>revenue</th>\n",
       "      <th>years_as_customer</th>\n",
       "      <th>week</th>\n",
       "    </tr>\n",
       "  </thead>\n",
       "  <tbody>\n",
       "    <tr>\n",
       "      <th>0</th>\n",
       "      <td>Email</td>\n",
       "      <td>99.76</td>\n",
       "      <td>0</td>\n",
       "      <td>2</td>\n",
       "    </tr>\n",
       "    <tr>\n",
       "      <th>1</th>\n",
       "      <td>Email + Call</td>\n",
       "      <td>225.47</td>\n",
       "      <td>1</td>\n",
       "      <td>6</td>\n",
       "    </tr>\n",
       "    <tr>\n",
       "      <th>2</th>\n",
       "      <td>Call</td>\n",
       "      <td>52.55</td>\n",
       "      <td>6</td>\n",
       "      <td>5</td>\n",
       "    </tr>\n",
       "    <tr>\n",
       "      <th>3</th>\n",
       "      <td>Email</td>\n",
       "      <td>108.72</td>\n",
       "      <td>3</td>\n",
       "      <td>4</td>\n",
       "    </tr>\n",
       "    <tr>\n",
       "      <th>4</th>\n",
       "      <td>Email</td>\n",
       "      <td>90.49</td>\n",
       "      <td>0</td>\n",
       "      <td>3</td>\n",
       "    </tr>\n",
       "    <tr>\n",
       "      <th>...</th>\n",
       "      <td>...</td>\n",
       "      <td>...</td>\n",
       "      <td>...</td>\n",
       "      <td>...</td>\n",
       "    </tr>\n",
       "    <tr>\n",
       "      <th>14995</th>\n",
       "      <td>Call</td>\n",
       "      <td>50.82</td>\n",
       "      <td>0</td>\n",
       "      <td>4</td>\n",
       "    </tr>\n",
       "    <tr>\n",
       "      <th>14996</th>\n",
       "      <td>Call</td>\n",
       "      <td>52.33</td>\n",
       "      <td>1</td>\n",
       "      <td>5</td>\n",
       "    </tr>\n",
       "    <tr>\n",
       "      <th>14997</th>\n",
       "      <td>Call</td>\n",
       "      <td>34.87</td>\n",
       "      <td>4</td>\n",
       "      <td>1</td>\n",
       "    </tr>\n",
       "    <tr>\n",
       "      <th>14998</th>\n",
       "      <td>Call</td>\n",
       "      <td>64.90</td>\n",
       "      <td>2</td>\n",
       "      <td>6</td>\n",
       "    </tr>\n",
       "    <tr>\n",
       "      <th>14999</th>\n",
       "      <td>Email + Call</td>\n",
       "      <td>189.83</td>\n",
       "      <td>4</td>\n",
       "      <td>5</td>\n",
       "    </tr>\n",
       "  </tbody>\n",
       "</table>\n",
       "<p>14998 rows × 4 columns</p>\n",
       "</div>"
      ],
      "text/plain": [
       "       sales_method  revenue  years_as_customer  week\n",
       "0             Email    99.76                  0     2\n",
       "1      Email + Call   225.47                  1     6\n",
       "2              Call    52.55                  6     5\n",
       "3             Email   108.72                  3     4\n",
       "4             Email    90.49                  0     3\n",
       "...             ...      ...                ...   ...\n",
       "14995          Call    50.82                  0     4\n",
       "14996          Call    52.33                  1     5\n",
       "14997          Call    34.87                  4     1\n",
       "14998          Call    64.90                  2     6\n",
       "14999  Email + Call   189.83                  4     5\n",
       "\n",
       "[14998 rows x 4 columns]"
      ]
     },
     "execution_count": 28,
     "metadata": {},
     "output_type": "execute_result"
    }
   ],
   "source": [
    "rev_overtime = df[['sales_method', 'revenue', 'years_as_customer', 'week']]\n",
    "rev_overtime"
   ]
  },
  {
   "cell_type": "code",
   "execution_count": 29,
   "metadata": {},
   "outputs": [
    {
     "data": {
      "text/html": [
       "<div>\n",
       "<style scoped>\n",
       "    .dataframe tbody tr th:only-of-type {\n",
       "        vertical-align: middle;\n",
       "    }\n",
       "\n",
       "    .dataframe tbody tr th {\n",
       "        vertical-align: top;\n",
       "    }\n",
       "\n",
       "    .dataframe thead th {\n",
       "        text-align: right;\n",
       "    }\n",
       "</style>\n",
       "<table border=\"1\" class=\"dataframe\">\n",
       "  <thead>\n",
       "    <tr style=\"text-align: right;\">\n",
       "      <th>sales_method</th>\n",
       "      <th>Call</th>\n",
       "      <th>Email</th>\n",
       "      <th>Email + Call</th>\n",
       "    </tr>\n",
       "    <tr>\n",
       "      <th>week</th>\n",
       "      <th></th>\n",
       "      <th></th>\n",
       "      <th></th>\n",
       "    </tr>\n",
       "  </thead>\n",
       "  <tbody>\n",
       "    <tr>\n",
       "      <th>1</th>\n",
       "      <td>26796.75</td>\n",
       "      <td>246380.59</td>\n",
       "      <td>19080.77</td>\n",
       "    </tr>\n",
       "    <tr>\n",
       "      <th>2</th>\n",
       "      <td>35098.45</td>\n",
       "      <td>148704.11</td>\n",
       "      <td>30801.16</td>\n",
       "    </tr>\n",
       "    <tr>\n",
       "      <th>3</th>\n",
       "      <td>37662.44</td>\n",
       "      <td>106807.34</td>\n",
       "      <td>54039.29</td>\n",
       "    </tr>\n",
       "    <tr>\n",
       "      <th>4</th>\n",
       "      <td>51662.30</td>\n",
       "      <td>116957.75</td>\n",
       "      <td>89660.24</td>\n",
       "    </tr>\n",
       "    <tr>\n",
       "      <th>5</th>\n",
       "      <td>55484.67</td>\n",
       "      <td>80846.73</td>\n",
       "      <td>147489.41</td>\n",
       "    </tr>\n",
       "    <tr>\n",
       "      <th>6</th>\n",
       "      <td>29642.28</td>\n",
       "      <td>25789.92</td>\n",
       "      <td>132757.11</td>\n",
       "    </tr>\n",
       "  </tbody>\n",
       "</table>\n",
       "</div>"
      ],
      "text/plain": [
       "sales_method      Call      Email  Email + Call\n",
       "week                                           \n",
       "1             26796.75  246380.59      19080.77\n",
       "2             35098.45  148704.11      30801.16\n",
       "3             37662.44  106807.34      54039.29\n",
       "4             51662.30  116957.75      89660.24\n",
       "5             55484.67   80846.73     147489.41\n",
       "6             29642.28   25789.92     132757.11"
      ]
     },
     "execution_count": 29,
     "metadata": {},
     "output_type": "execute_result"
    }
   ],
   "source": [
    "sales_over_6 = rev_overtime.groupby(['week', 'sales_method'])['revenue'].sum().unstack()\n",
    "sales_over_6"
   ]
  },
  {
   "cell_type": "code",
   "execution_count": 31,
   "metadata": {},
   "outputs": [
    {
     "data": {
      "image/png": "[encoded data removed]",
      "text/plain": [
       "<Figure size 640x480 with 1 Axes>"
      ]
     },
     "metadata": {},
     "output_type": "display_data"
    }
   ],
   "source": [
    "sales_over_6 = rev_overtime.groupby(['week', 'sales_method'])['revenue'].sum().unstack()\n",
    "\n",
    "# Plotting the data\n",
    "sns.lineplot(data = sales_over_6, marker='o', palette = 'pastel')\n",
    "\n",
    "plt.title('Weekly Revenue Trends by Method')\n",
    "plt.xlabel('Weeks Since Launch')\n",
    "plt.ylabel('Revenue')\n",
    "plt.legend(title = 'Sales Method')\n",
    "\n",
    "plt.show()"
   ]
  },
  {
   "cell_type": "markdown",
   "metadata": {},
   "source": [
    "This line plot shows that Email sales method drops significantly at 85.7%, but its effective in bringing the most revenue overall due to how much we use it. Email + Call takes a little time to get going but passes the Call only sales method shortly after week 2. It is effective in bringing in the highest revenue per sale and the second highest revenue overall despite it being the least used sales method. Call significantly underperforms, producing the least revenue almost every week and overall."
   ]
  }
 ],
 "metadata": {
  "kernelspec": {
   "display_name": "Python 3",
   "language": "python",
   "name": "python3"
  },
  "language_info": {
   "codemirror_mode": {
    "name": "ipython",
    "version": 3
   },
   "file_extension": ".py",
   "mimetype": "text/x-python",
   "name": "python",
   "nbconvert_exporter": "python",
   "pygments_lexer": "ipython3",
   "version": "3.12.2"
  }
 },
 "nbformat": 4,
 "nbformat_minor": 2
}
